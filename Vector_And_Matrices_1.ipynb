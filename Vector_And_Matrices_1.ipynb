{
 "cells": [
  {
   "cell_type": "code",
   "execution_count": 1,
   "id": "79656cbf",
   "metadata": {},
   "outputs": [],
   "source": [
    "import pandas as pd"
   ]
  },
  {
   "cell_type": "code",
   "execution_count": 2,
   "id": "ce38075f",
   "metadata": {},
   "outputs": [],
   "source": [
    "import numpy as np"
   ]
  },
  {
   "cell_type": "code",
   "execution_count": 4,
   "id": "2d8d3ec4",
   "metadata": {},
   "outputs": [
    {
     "name": "stdout",
     "output_type": "stream",
     "text": [
      "[[4, 7, 9], [3, 2, 5]]\n"
     ]
    }
   ],
   "source": [
    "from numpy import array\n",
    "a= ([[4,7,9],[3,2,5]])\n",
    "print(a)"
   ]
  },
  {
   "cell_type": "code",
   "execution_count": 6,
   "id": "c9fd0324",
   "metadata": {},
   "outputs": [
    {
     "name": "stdout",
     "output_type": "stream",
     "text": [
      "[[10  5 15]\n",
      " [11 11 11]]\n"
     ]
    }
   ],
   "source": [
    "X = array([[3,1,6],[3,9,6]])\n",
    "Y = array([[7,4,9],[8,2,5]])\n",
    "print(X+Y)"
   ]
  },
  {
   "cell_type": "code",
   "execution_count": 7,
   "id": "dd5b03ee",
   "metadata": {},
   "outputs": [
    {
     "name": "stdout",
     "output_type": "stream",
     "text": [
      "[[-6 -3  5]\n",
      " [ 3  0  1]]\n"
     ]
    }
   ],
   "source": [
    "X = array([[2,1,7],[4,2,6]])\n",
    "Y = array([[8,4,2],[1,2,5]])\n",
    "print(X-Y)"
   ]
  },
  {
   "cell_type": "code",
   "execution_count": 9,
   "id": "4cf2cbee",
   "metadata": {},
   "outputs": [
    {
     "name": "stdout",
     "output_type": "stream",
     "text": [
      "[[27 32 14]\n",
      " [ 4 10 18]]\n"
     ]
    }
   ],
   "source": [
    "X = array([[9,8,7],[4,5,6]])\n",
    "Y = array([[3,4,2],[1,2,3]])\n",
    "print(X*Y)"
   ]
  },
  {
   "cell_type": "code",
   "execution_count": 10,
   "id": "50b69814",
   "metadata": {},
   "outputs": [
    {
     "name": "stdout",
     "output_type": "stream",
     "text": [
      "[[0.14285714 0.25       0.33333333]\n",
      " [4.         2.5        2.        ]]\n"
     ]
    }
   ],
   "source": [
    "X = array([[1,2,3],[4,5,6]])\n",
    "Y = array([[7,8,9],[1,2,3]])\n",
    "print(X/Y)"
   ]
  },
  {
   "cell_type": "code",
   "execution_count": 21,
   "id": "5c458bb1",
   "metadata": {},
   "outputs": [
    {
     "name": "stdout",
     "output_type": "stream",
     "text": [
      "[['Sun' '20' '16' '23' '12']\n",
      " ['Mon' '29' '11' '20' '22']\n",
      " ['Tue' '24' '26' '28' '22']\n",
      " ['Wed' '13' '15' '17' '19']\n",
      " ['Thu' '10' '13' '26' '12']\n",
      " ['Fri' '24' '15' '23' '18']\n",
      " ['Sat' '23' '14' '28' '22']]\n"
     ]
    }
   ],
   "source": [
    "from numpy import *\n",
    "x = array([['Sun',20,16,23,12],['Mon',29,11,20,22],['Tue',24,26,28,22],['Wed',13,15,17,19],['Thu',10,13,26,12],['Fri',24,15,23,18],['Sat',23,14,28,22]])\n",
    "print(x)\n",
    "# s= reshape(x,(7,5))"
   ]
  },
  {
   "cell_type": "code",
   "execution_count": 22,
   "id": "7c9b9e1b",
   "metadata": {},
   "outputs": [
    {
     "name": "stdout",
     "output_type": "stream",
     "text": [
      "['Wed' '13' '15' '17' '19']\n"
     ]
    }
   ],
   "source": [
    "print(x[3])"
   ]
  },
  {
   "cell_type": "code",
   "execution_count": 23,
   "id": "4af24570",
   "metadata": {},
   "outputs": [
    {
     "name": "stdout",
     "output_type": "stream",
     "text": [
      "26\n"
     ]
    }
   ],
   "source": [
    "print(x[2][2])"
   ]
  },
  {
   "cell_type": "code",
   "execution_count": 28,
   "id": "6e7db9ba",
   "metadata": {},
   "outputs": [
    {
     "name": "stdout",
     "output_type": "stream",
     "text": [
      "[['Sun' '20' '16' '23' '12']\n",
      " ['Mon' '29' '11' '20' '22']\n",
      " ['Tue' '24' '26' '28' '22']\n",
      " ['Wed' '13' '15' '17' '19']\n",
      " ['Thu' '10' '13' '26' '12']\n",
      " ['Fri' '24' '15' '23' '18']\n",
      " ['Sat' '23' '14' '28' '22']\n",
      " ['Avg' '12' '13' '14' '15']]\n"
     ]
    }
   ],
   "source": [
    "from numpy import *\n",
    "a = array([['Sun',20,16,23,12],['Mon',29,11,20,22],['Tue',24,26,28,22],['Wed',13,15,17,19],['Thu',10,13,26,12],['Fri',24,15,23,18],['Sat',23,14,28,22]])\n",
    "\n",
    "b= append(a,[['Avg',12,13,14,15]],0)\n",
    "print(b)"
   ]
  },
  {
   "cell_type": "code",
   "execution_count": 26,
   "id": "c01f1f5c",
   "metadata": {},
   "outputs": [
    {
     "name": "stdout",
     "output_type": "stream",
     "text": [
      "[['Sun' '20' '16' '5' '23' '12']\n",
      " ['Mon' '29' '11' '8' '20' '22']\n",
      " ['Tue' '24' '26' '3' '28' '22']\n",
      " ['Wed' '13' '15' '7' '17' '19']\n",
      " ['Thu' '10' '13' '5' '26' '12']\n",
      " ['Fri' '24' '15' '1' '23' '18']\n",
      " ['Sat' '23' '14' '2' '28' '22']]\n"
     ]
    }
   ],
   "source": [
    "from numpy import *\n",
    "p = array([['Sun',20,16,23,12],['Mon',29,11,20,22],['Tue',24,26,28,22],['Wed',13,15,17,19],['Thu',10,13,26,12],['Fri',24,15,23,18],['Sat',23,14,28,22]])\n",
    "\n",
    "q = insert(p,[3],[[5],[8],[3],[7],[5],[1],[2]],1)\n",
    "print(q)"
   ]
  },
  {
   "cell_type": "code",
   "execution_count": null,
   "id": "e09e3817",
   "metadata": {},
   "outputs": [],
   "source": []
  }
 ],
 "metadata": {
  "kernelspec": {
   "display_name": "Python 3 (ipykernel)",
   "language": "python",
   "name": "python3"
  },
  "language_info": {
   "codemirror_mode": {
    "name": "ipython",
    "version": 3
   },
   "file_extension": ".py",
   "mimetype": "text/x-python",
   "name": "python",
   "nbconvert_exporter": "python",
   "pygments_lexer": "ipython3",
   "version": "3.9.7"
  }
 },
 "nbformat": 4,
 "nbformat_minor": 5
}
